{
 "cells": [
  {
   "cell_type": "code",
   "execution_count": 1,
   "metadata": {},
   "outputs": [],
   "source": [
    "import numpy as np\n",
    "import os\n",
    "import json"
   ]
  },
  {
   "cell_type": "code",
   "execution_count": 1,
   "metadata": {},
   "outputs": [],
   "source": [
    "from filtool_script import FiltoolExec"
   ]
  },
  {
   "cell_type": "code",
   "execution_count": 2,
   "metadata": {},
   "outputs": [],
   "source": [
    "fil_exec = FiltoolExec('/home/rsenzel/Code/inception/dev_injector/fb/controlfb2_uhf.fil', 'pars.json', 'test_dir', 1)"
   ]
  },
  {
   "cell_type": "code",
   "execution_count": 4,
   "metadata": {},
   "outputs": [
    {
     "data": {
      "text/plain": [
       "{'rfi_flags': 'kadaneF 8 4',\n",
       " 'temp_filesystem': '/beegfs/',\n",
       " 'fscrunch': 1,\n",
       " 'snr_threshold': 8.5,\n",
       " 'nharmonics': '4',\n",
       " 'fft_length': 8388608,\n",
       " 'start_accel': -25,\n",
       " 'end_accel': 25,\n",
       " 'accel_tol': 1.11,\n",
       " 'candidate_limit': 1000,\n",
       " 'ddplan': '0.000     517.800    0.30 1    1726 0.744\\r\\n517.800   834.800    0.50 2     634 0.1366\\r\\n834.800  1589.800    1.00 4     755 0.08136\\r\\n1589.800 3001.800    2.00 8     706 0.03804',\n",
       " 'overrides': 'both',\n",
       " 'birdie_list': '1000.00:0.05,1500.00:0.05,1300.00:0.05',\n",
       " 'channel_mask': '856.0:863.94140625,935.4140625:940.84765625',\n",
       " 'ram_limit': 24}"
      ]
     },
     "execution_count": 4,
     "metadata": {},
     "output_type": "execute_result"
    }
   ],
   "source": [
    "fil_exec.processing_args"
   ]
  },
  {
   "cell_type": "code",
   "execution_count": 3,
   "metadata": {},
   "outputs": [],
   "source": [
    "ddplan = list(fil_exec.create_DDplan())\n",
    "filplan = fil_exec.create_filplan(ddplan)"
   ]
  },
  {
   "cell_type": "code",
   "execution_count": 5,
   "metadata": {},
   "outputs": [
    {
     "data": {
      "text/plain": [
       "'test_dir/filplan.json'"
      ]
     },
     "execution_count": 5,
     "metadata": {},
     "output_type": "execute_result"
    }
   ],
   "source": [
    "filplan"
   ]
  },
  {
   "cell_type": "code",
   "execution_count": null,
   "metadata": {},
   "outputs": [],
   "source": [
    "f'overview_dm_0.000000_103.800000.xml'"
   ]
  },
  {
   "cell_type": "code",
   "execution_count": null,
   "metadata": {},
   "outputs": [],
   "source": [
    "xml_file_names = [f'overview_dm_{dm_range.low:.6f}_{dm_range.high:.6f}.xml' for dm_range in ddplan]"
   ]
  },
  {
   "cell_type": "code",
   "execution_count": null,
   "metadata": {},
   "outputs": [],
   "source": []
  },
  {
   "cell_type": "code",
   "execution_count": 6,
   "metadata": {},
   "outputs": [
    {
     "name": "stdout",
     "output_type": "stream",
     "text": [
      "DMRange(low_dm=0.0, high_dm=517.8, dm_step=0.3, tscrunch=1.0)\n",
      "DMRange(low_dm=517.8, high_dm=834.8, dm_step=0.5, tscrunch=2.0)\n",
      "DMRange(low_dm=834.8, high_dm=1589.8, dm_step=1.0, tscrunch=4.0)\n",
      "DMRange(low_dm=1589.8, high_dm=3001.8, dm_step=2.0, tscrunch=8.0)\n"
     ]
    }
   ],
   "source": [
    "for i in ddplan:\n",
    "    print(i)"
   ]
  },
  {
   "cell_type": "code",
   "execution_count": 45,
   "metadata": {},
   "outputs": [],
   "source": [
    "dm_range = np.linspace(ddplan[0].low_dm, ddplan[0].high_dm, int((ddplan[0].high_dm-ddplan[0].low_dm)/ddplan[0].dm_step), endpoint=False)\n",
    "dm1 = np.linspace(ddplan[1].low_dm, ddplan[1].high_dm, int((ddplan[1].high_dm-ddplan[1].low_dm)/ddplan[1].dm_step), endpoint=False)"
   ]
  },
  {
   "cell_type": "code",
   "execution_count": 82,
   "metadata": {},
   "outputs": [],
   "source": [
    "dm_trials_list = []\n",
    "tscrunch_list = []\n",
    "for i, dm_range in enumerate(ddplan):\n",
    "    n_trial = int((dm_range.high_dm-dm_range.low_dm)/dm_range.dm_step)\n",
    "    n_trial, endpoint = (n_trial + 1, True) if i == len(ddplan)-1 else (n_trial, False)\n",
    "    dm_list_i = np.linspace(dm_range.low_dm, dm_range.high_dm, n_trial, endpoint=endpoint)\n",
    "    tscrunch = np.ones_like(dm_list_i) * dm_range.tscrunch\n",
    "    dm_trials_list.append(dm_list_i)\n",
    "    tscrunch_list.append(tscrunch)"
   ]
  },
  {
   "cell_type": "code",
   "execution_count": 83,
   "metadata": {},
   "outputs": [
    {
     "data": {
      "text/plain": [
       "array([1., 1., 1., ..., 8., 8., 8.])"
      ]
     },
     "execution_count": 83,
     "metadata": {},
     "output_type": "execute_result"
    }
   ],
   "source": [
    "dm_trials = np.concat(dm_trials_list)\n",
    "tscrunch = np.concat(tscrunch_list)\n",
    "tscrunch"
   ]
  },
  {
   "cell_type": "code",
   "execution_count": 66,
   "metadata": {},
   "outputs": [],
   "source": [
    "def find_n_nearest(dm_arr, tscrunch_arr, target, n):\n",
    "    nearest_indices = np.argsort(np.abs(dm_arr - target))[:n]\n",
    "    dm_values = dm_arr[nearest_indices]\n",
    "    tscrunch_values = tscrunch_arr[nearest_indices]\n",
    "    return dm_values, tscrunch_values"
   ]
  },
  {
   "cell_type": "code",
   "execution_count": 71,
   "metadata": {},
   "outputs": [
    {
     "data": {
      "text/plain": [
       "(array([517.8, 517.5, 517.2, 518.3, 516.9]), array([2., 1., 1., 2., 1.]))"
      ]
     },
     "execution_count": 71,
     "metadata": {},
     "output_type": "execute_result"
    }
   ],
   "source": [
    "a, b = find_n_nearest(dm_trials, tscrunch, 517.7, 5)\n",
    "a, b"
   ]
  },
  {
   "cell_type": "code",
   "execution_count": 81,
   "metadata": {},
   "outputs": [
    {
     "data": {
      "text/plain": [
       "np.int64(1)"
      ]
     },
     "execution_count": 81,
     "metadata": {},
     "output_type": "execute_result"
    }
   ],
   "source": [
    "np.where(np.array([dm_range.tscrunch for dm_range in ddplan] )== 2)[0][0]"
   ]
  },
  {
   "cell_type": "code",
   "execution_count": 73,
   "metadata": {},
   "outputs": [
    {
     "data": {
      "text/plain": [
       "array([517.5, 517.2, 516.9])"
      ]
     },
     "execution_count": 73,
     "metadata": {},
     "output_type": "execute_result"
    }
   ],
   "source": [
    "a[np.where(b == 1)]"
   ]
  },
  {
   "cell_type": "code",
   "execution_count": 50,
   "metadata": {},
   "outputs": [
    {
     "data": {
      "text/plain": [
       "(array([1072.13331736, 1374.67901752, 1121.25312234, 1487.44617915,\n",
       "        1061.48080809, 1298.42985136, 1143.93419058,  585.98544057,\n",
       "         226.25915701,  530.1386847 ]),\n",
       " array([[0., 0., 0., 0.],\n",
       "        [0., 0., 0., 0.],\n",
       "        [0., 0., 0., 0.],\n",
       "        [0., 0., 0., 0.],\n",
       "        [0., 0., 0., 0.],\n",
       "        [0., 0., 0., 0.],\n",
       "        [0., 0., 0., 0.],\n",
       "        [0., 0., 0., 0.],\n",
       "        [0., 0., 0., 0.],\n",
       "        [0., 0., 0., 0.]]))"
      ]
     },
     "execution_count": 50,
     "metadata": {},
     "output_type": "execute_result"
    }
   ],
   "source": [
    "my_dms = np.random.uniform(50, 1500, size=10)\n",
    "nearest = 5\n",
    "dm_search = np.zeros((len(my_dms), nearest))\n",
    "my_dms, dm_search"
   ]
  },
  {
   "cell_type": "code",
   "execution_count": null,
   "metadata": {},
   "outputs": [],
   "source": []
  },
  {
   "cell_type": "code",
   "execution_count": null,
   "metadata": {},
   "outputs": [],
   "source": []
  },
  {
   "cell_type": "code",
   "execution_count": null,
   "metadata": {},
   "outputs": [],
   "source": []
  }
 ],
 "metadata": {
  "kernelspec": {
   "display_name": ".venv",
   "language": "python",
   "name": "python3"
  },
  "language_info": {
   "codemirror_mode": {
    "name": "ipython",
    "version": 3
   },
   "file_extension": ".py",
   "mimetype": "text/x-python",
   "name": "python",
   "nbconvert_exporter": "python",
   "pygments_lexer": "ipython3",
   "version": "3.12.3"
  }
 },
 "nbformat": 4,
 "nbformat_minor": 2
}
