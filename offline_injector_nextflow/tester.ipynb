{
 "cells": [
  {
   "cell_type": "code",
   "execution_count": 1,
   "metadata": {},
   "outputs": [],
   "source": [
    "import numpy as np\n",
    "import os"
   ]
  },
  {
   "cell_type": "code",
   "execution_count": 2,
   "metadata": {},
   "outputs": [],
   "source": [
    "from filtool_script import FiltoolExec"
   ]
  },
  {
   "cell_type": "code",
   "execution_count": 3,
   "metadata": {},
   "outputs": [],
   "source": [
    "fil_exec = FiltoolExec('/home/rsenzel/Code/inception/dev_injector/fb/controlfb2_uhf.fil', 'pars.json', 'test_dir', 1)"
   ]
  },
  {
   "cell_type": "code",
   "execution_count": 4,
   "metadata": {},
   "outputs": [],
   "source": [
    "ddplan = list(fil_exec.create_DDplan())\n",
    "filplan = fil_exec.create_filplan(ddplan)"
   ]
  },
  {
   "cell_type": "code",
   "execution_count": 5,
   "metadata": {},
   "outputs": [
    {
     "data": {
      "text/plain": [
       "'test_dir/filplan.json'"
      ]
     },
     "execution_count": 5,
     "metadata": {},
     "output_type": "execute_result"
    }
   ],
   "source": [
    "filplan"
   ]
  },
  {
   "cell_type": "code",
   "execution_count": 6,
   "metadata": {},
   "outputs": [
    {
     "name": "stdout",
     "output_type": "stream",
     "text": [
      "DMRange(low_dm=0.0, high_dm=517.8, dm_step=0.3, tscrunch=1.0)\n",
      "DMRange(low_dm=517.8, high_dm=834.8, dm_step=0.5, tscrunch=2.0)\n",
      "DMRange(low_dm=834.8, high_dm=1589.8, dm_step=1.0, tscrunch=4.0)\n",
      "DMRange(low_dm=1589.8, high_dm=3001.8, dm_step=2.0, tscrunch=8.0)\n"
     ]
    }
   ],
   "source": [
    "for i in ddplan:\n",
    "    print(i)"
   ]
  },
  {
   "cell_type": "code",
   "execution_count": 45,
   "metadata": {},
   "outputs": [],
   "source": [
    "dm_range = np.linspace(ddplan[0].low_dm, ddplan[0].high_dm, int((ddplan[0].high_dm-ddplan[0].low_dm)/ddplan[0].dm_step), endpoint=False)\n",
    "dm1 = np.linspace(ddplan[1].low_dm, ddplan[1].high_dm, int((ddplan[1].high_dm-ddplan[1].low_dm)/ddplan[1].dm_step), endpoint=False)"
   ]
  },
  {
   "cell_type": "code",
   "execution_count": 63,
   "metadata": {},
   "outputs": [],
   "source": [
    "dm_trials_list = []\n",
    "tscrunch_list = []\n",
    "for i, dm_range in enumerate(ddplan):\n",
    "    n_trial = int((dm_range.high_dm-dm_range.low_dm)/dm_range.dm_step)\n",
    "    n_trial, endpoint = (n_trial + 1, True) if i == len(ddplan)-1 else (n_trial, False)\n",
    "    dm_list_i = np.linspace(dm_range.low_dm, dm_range.high_dm, n_trial, endpoint=endpoint)\n",
    "    tscrunch = np.ones_like(dm_list_i) * dm_range.tscrunch\n",
    "    dm_trials_list.append(dm_list_i)\n",
    "    tscrunch_list.append(tscrunch)"
   ]
  },
  {
   "cell_type": "code",
   "execution_count": 65,
   "metadata": {},
   "outputs": [
    {
     "data": {
      "text/plain": [
       "array([1., 1., 1., ..., 8., 8., 8.])"
      ]
     },
     "execution_count": 65,
     "metadata": {},
     "output_type": "execute_result"
    }
   ],
   "source": [
    "dm_trials = np.concat(dm_trials_list)\n",
    "tscrunch = np.concat(tscrunch_list)\n",
    "tscrunch"
   ]
  },
  {
   "cell_type": "code",
   "execution_count": 66,
   "metadata": {},
   "outputs": [],
   "source": [
    "def find_n_nearest(dm_arr, tscrunch_arr, target, n):\n",
    "    nearest_indices = np.argsort(np.abs(dm_arr - target))[:n]\n",
    "    dm_values = dm_arr[nearest_indices]\n",
    "    tscrunch_values = tscrunch_arr[nearest_indices]\n",
    "    return dm_values, tscrunch_values"
   ]
  },
  {
   "cell_type": "code",
   "execution_count": 70,
   "metadata": {},
   "outputs": [
    {
     "data": {
      "text/plain": [
       "(array([517.8, 517.5, 517.2, 518.3, 516.9]), array([2., 1., 1., 2., 1.]))"
      ]
     },
     "execution_count": 70,
     "metadata": {},
     "output_type": "execute_result"
    }
   ],
   "source": [
    "find_n_nearest(dm_trials, tscrunch, 517.7, 5)"
   ]
  },
  {
   "cell_type": "code",
   "execution_count": 50,
   "metadata": {},
   "outputs": [
    {
     "data": {
      "text/plain": [
       "(array([1072.13331736, 1374.67901752, 1121.25312234, 1487.44617915,\n",
       "        1061.48080809, 1298.42985136, 1143.93419058,  585.98544057,\n",
       "         226.25915701,  530.1386847 ]),\n",
       " array([[0., 0., 0., 0.],\n",
       "        [0., 0., 0., 0.],\n",
       "        [0., 0., 0., 0.],\n",
       "        [0., 0., 0., 0.],\n",
       "        [0., 0., 0., 0.],\n",
       "        [0., 0., 0., 0.],\n",
       "        [0., 0., 0., 0.],\n",
       "        [0., 0., 0., 0.],\n",
       "        [0., 0., 0., 0.],\n",
       "        [0., 0., 0., 0.]]))"
      ]
     },
     "execution_count": 50,
     "metadata": {},
     "output_type": "execute_result"
    }
   ],
   "source": [
    "my_dms = np.random.uniform(50, 1500, size=10)\n",
    "nearest = 5\n",
    "dm_search = np.zeros((len(my_dms), nearest))\n",
    "my_dms, dm_search"
   ]
  },
  {
   "cell_type": "code",
   "execution_count": null,
   "metadata": {},
   "outputs": [],
   "source": []
  },
  {
   "cell_type": "code",
   "execution_count": null,
   "metadata": {},
   "outputs": [],
   "source": []
  },
  {
   "cell_type": "code",
   "execution_count": null,
   "metadata": {},
   "outputs": [],
   "source": []
  }
 ],
 "metadata": {
  "kernelspec": {
   "display_name": ".venv",
   "language": "python",
   "name": "python3"
  },
  "language_info": {
   "codemirror_mode": {
    "name": "ipython",
    "version": 3
   },
   "file_extension": ".py",
   "mimetype": "text/x-python",
   "name": "python",
   "nbconvert_exporter": "python",
   "pygments_lexer": "ipython3",
   "version": "3.12.3"
  }
 },
 "nbformat": 4,
 "nbformat_minor": 2
}
