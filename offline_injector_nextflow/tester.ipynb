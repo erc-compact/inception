{
 "cells": [
  {
   "cell_type": "code",
   "execution_count": 23,
   "metadata": {},
   "outputs": [],
   "source": [
    "import numpy as np\n",
    "import os\n",
    "import json"
   ]
  },
  {
   "cell_type": "code",
   "execution_count": 24,
   "metadata": {},
   "outputs": [],
   "source": [
    "from filtool_script import FiltoolExec"
   ]
  },
  {
   "cell_type": "code",
   "execution_count": 25,
   "metadata": {},
   "outputs": [],
   "source": [
    "fil_exec = FiltoolExec('/home/rsenzel/Code/inception/dev_injector/fb/controlfb2_uhf.fil', 'mmgps_search.json', 'test_dir', 1)"
   ]
  },
  {
   "cell_type": "code",
   "execution_count": 26,
   "metadata": {},
   "outputs": [],
   "source": [
    "def slices(csv):\n",
    "    for value in csv.split(\",\"):\n",
    "        if \":\" not in value:\n",
    "            yield float(value)\n",
    "        else:\n",
    "            x = value.split(\":\")\n",
    "            start = float(x[0])\n",
    "            end = float(x[1])\n",
    "            if len(x) > 2:\n",
    "                step = float(x[2])\n",
    "            else:\n",
    "                step = 1\n",
    "            for subvalue in np.arange(start, end, step):\n",
    "                yield subvalue"
   ]
  },
  {
   "cell_type": "code",
   "execution_count": 27,
   "metadata": {},
   "outputs": [],
   "source": [
    "ddplan = fil_exec.create_DDplan()\n",
    "for dm_range in ddplan:\n",
    "    dm_csv = f\"{dm_range.low_dm}:{dm_range.high_dm}:{dm_range.dm_step}\"\n",
    "    dm_list = sorted(list(set(list(slices(dm_csv)))))\n",
    "    np.savetxt(f'outfile_{dm_range.tscrunch}.txt', dm_list, fmt='%.3f')"
   ]
  },
  {
   "cell_type": "code",
   "execution_count": 142,
   "metadata": {},
   "outputs": [],
   "source": [
    "import xml.etree.ElementTree as ET\n",
    "import json\n",
    "import numpy as np"
   ]
  },
  {
   "cell_type": "code",
   "execution_count": 143,
   "metadata": {},
   "outputs": [],
   "source": [
    "with open('/home/rsenzel/Code/inception/offline_injector_nextflow/xml_files/injection_report_inj_000001.json', 'r') as file:\n",
    "    pars = json.load(file)\n",
    "\n",
    "psr = pars['pulsars']"
   ]
  },
  {
   "cell_type": "code",
   "execution_count": 144,
   "metadata": {},
   "outputs": [],
   "source": [
    "def xml_to_dict(element):\n",
    "    # Convert element attributes and text to a dictionary\n",
    "    data = {element.tag: {} if element.attrib else None}\n",
    "    children = list(element)\n",
    "    \n",
    "    # Process each child\n",
    "    if children:\n",
    "        dd = {}\n",
    "        for dc in map(xml_to_dict, children):\n",
    "            for k, v in dc.items():\n",
    "                if k in dd:\n",
    "                    if not isinstance(dd[k], list):\n",
    "                        dd[k] = [dd[k]]\n",
    "                    dd[k].append(v)\n",
    "                else:\n",
    "                    dd[k] = v\n",
    "        data = {element.tag: dd}\n",
    "    if element.attrib:\n",
    "        data[element.tag].update(('@' + k, v) for k, v in element.attrib.items())\n",
    "    if element.text:\n",
    "        text = element.text.strip()\n",
    "        if children or element.attrib:\n",
    "            if text:\n",
    "                data[element.tag]['#text'] = text\n",
    "        else:\n",
    "            data[element.tag] = text\n",
    "    return data"
   ]
  },
  {
   "cell_type": "code",
   "execution_count": 145,
   "metadata": {},
   "outputs": [
    {
     "data": {
      "text/plain": [
       "(803, 803, 806)"
      ]
     },
     "execution_count": 145,
     "metadata": {},
     "output_type": "execute_result"
    }
   ],
   "source": [
    "con1 = xml_to_dict(ET.parse('xml_files/con_1.xml').getroot())['peasoup_search']['candidates']['candidate']\n",
    "con2 = xml_to_dict(ET.parse('xml_files/con_2.xml').getroot())['peasoup_search']['candidates']['candidate']\n",
    "con3 = xml_to_dict(ET.parse('xml_files/con_3.xml').getroot())['peasoup_search']['candidates']['candidate']\n",
    "con4 = xml_to_dict(ET.parse('xml_files/con_4.xml').getroot())['peasoup_search']['candidates']['candidate']\n",
    "\n",
    "inj1 = xml_to_dict(ET.parse('xml_files/inj_1.xml').getroot())['peasoup_search']['candidates']['candidate']\n",
    "inj2 = xml_to_dict(ET.parse('xml_files/inj_2.xml').getroot())['peasoup_search']['candidates']['candidate']\n",
    "inj3 = xml_to_dict(ET.parse('xml_files/inj_3.xml').getroot())['peasoup_search']['candidates']['candidate']\n",
    "inj4 = xml_to_dict(ET.parse('xml_files/inj_4.xml').getroot())['peasoup_search']['candidates']['candidate']\n",
    "\n",
    "orig1 = xml_to_dict(ET.parse('xml_files/orig_1.xml').getroot())['peasoup_search']['candidates']['candidate']\n",
    "orig2 = xml_to_dict(ET.parse('xml_files/orig_2.xml').getroot())['peasoup_search']['candidates']['candidate']\n",
    "orig3 = xml_to_dict(ET.parse('xml_files/orig_3.xml').getroot())['peasoup_search']['candidates']['candidate']\n",
    "orig4 = xml_to_dict(ET.parse('xml_files/orig_4.xml').getroot())['peasoup_search']['candidates']['candidate']\n",
    "\n",
    "# nm1 = xml_to_dict(ET.parse('xml_files/no_merge_1.xml').getroot())['peasoup_search']['candidates']['candidate']\n",
    "# nm2 = xml_to_dict(ET.parse('xml_files/no_merge_2.xml').getroot())['peasoup_search']['candidates']['candidate']\n",
    "# nm3 = xml_to_dict(ET.parse('xml_files/no_merge_3.xml').getroot())['peasoup_search']['candidates']['candidate']\n",
    "# nm4 = xml_to_dict(ET.parse('xml_files/no_merge_4.xml').getroot())['peasoup_search']['candidates']['candidate']\n",
    "\n",
    "con = [*con1, *con2, *con3, *con4]\n",
    "inj = [*inj1, *inj2, *inj3, *inj4]\n",
    "orig = [*orig1, *orig2, *orig3, *orig4]\n",
    "# nm = [*nm1, *nm2, *nm3, *nm4]\n",
    "\n",
    "len(con), len(orig),  len(inj) #len(nm),"
   ]
  },
  {
   "cell_type": "code",
   "execution_count": 34,
   "metadata": {},
   "outputs": [],
   "source": [
    "class CandidateXMLMatcher:\n",
    "    def __init__(self, injected_pulsars, injected_xml, original_xml):\n",
    "        self.injected_xml = self.get_cands(injected_xml)\n",
    "        self.original_xml = self.get_cands(original_xml)\n",
    "        self.psr = self.get_pulsars(injected_pulsars)\n",
    "\n",
    "    def get_cands(self, xml):\n",
    "        return self.xml_to_dict(ET.parse(xml).getroot())['peasoup_search']['candidates']['candidate']\n",
    "    \n",
    "    def get_pulsars(self, psr_file):\n",
    "        with open(psr_file, 'r') as file:\n",
    "            pars = json.load(file)\n",
    "        return pars['pulsars']\n",
    "    \n",
    "    @staticmethod\n",
    "    def xml_to_dict(element):\n",
    "        data = {element.tag: {} if element.attrib else None}\n",
    "        children = list(element)\n",
    "        \n",
    "        if children:\n",
    "            dd = {}\n",
    "            for dc in map(xml_to_dict, children):\n",
    "                for k, v in dc.items():\n",
    "                    if k in dd:\n",
    "                        if not isinstance(dd[k], list):\n",
    "                            dd[k] = [dd[k]]\n",
    "                        dd[k].append(v)\n",
    "                    else:\n",
    "                        dd[k] = v\n",
    "            data = {element.tag: dd}\n",
    "        if element.attrib:\n",
    "            data[element.tag].update(('@' + k, v) for k, v in element.attrib.items())\n",
    "        if element.text:\n",
    "            text = element.text.strip()\n",
    "            if children or element.attrib:\n",
    "                if text:\n",
    "                    data[element.tag]['#text'] = text\n",
    "            else:\n",
    "                data[element.tag] = text\n",
    "        return data"
   ]
  },
  {
   "cell_type": "code",
   "execution_count": 146,
   "metadata": {},
   "outputs": [],
   "source": [
    "def condition(key, tol, cand1, cand2):\n",
    "    lower = (float(cand1[key]) >= float(cand2[key])*(1-tol)) \n",
    "    upper = (float(cand1[key]) <= float(cand2[key])*(1+tol)) \n",
    "    return lower and upper\n",
    "\n",
    "def get_diffs(inj_cand, orig_cand):\n",
    "    period_diff = float(inj_cand['period'])-float(orig_cand['period'])\n",
    "    dm_diff = float(inj_cand['dm'])-float(orig_cand['dm'])\n",
    "    acc_diff = float(inj_cand['acc'])-float(orig_cand['acc'])\n",
    "    snr_diff = float(inj_cand['snr'])-float(orig_cand['snr'])\n",
    "    return period_diff, dm_diff, acc_diff, snr_diff\n",
    "\n",
    "def get_cand_match(original, injected, tol):\n",
    "    cand_match = []\n",
    "    for i, inj_cand in enumerate(injected):\n",
    "        for j, orig_cand in enumerate(original):\n",
    "            condition1 = condition('period', tol, inj_cand, orig_cand)\n",
    "            condition2 = condition('dm', tol, inj_cand, orig_cand)\n",
    "            condition3 = condition('acc', tol, inj_cand, orig_cand)\n",
    "            if condition1 and condition2 and condition3:\n",
    "                cand_match.append([i, j, *get_diffs(inj_cand, orig_cand)])\n",
    "                break\n",
    "    return np.array(cand_match)\n",
    "\n",
    "def remove_cands(cands1, cands2, cand_match):\n",
    "    cands1c = cands1.copy()\n",
    "    cands2c = cands2.copy()\n",
    "\n",
    "    ind1 = cand_match.T[0].astype(int)\n",
    "    ind2 = cand_match.T[1].astype(int)\n",
    "    for index in sorted(ind1, reverse=True):\n",
    "        del cands1c[index]\n",
    "    for index in sorted(ind2, reverse=True):\n",
    "        del cands2c[index]\n",
    "    return cands1c, cands2c"
   ]
  },
  {
   "cell_type": "code",
   "execution_count": 147,
   "metadata": {},
   "outputs": [
    {
     "data": {
      "text/plain": [
       "[[525, 525, 525], [151, 151, 151], [104, 104, 104], [23, 23, 23]]"
      ]
     },
     "execution_count": 147,
     "metadata": {},
     "output_type": "execute_result"
    }
   ],
   "source": [
    "cand_match1 = get_cand_match(orig1, con1, tol=0)\n",
    "cand_match2 = get_cand_match(orig2, con2, tol=0)\n",
    "cand_match3 = get_cand_match(orig3, con3, tol=0)\n",
    "cand_match4 = get_cand_match(orig4, con4, tol=0)\n",
    "[[len(cand_match1), len(con1), len(orig1)],\n",
    " [len(cand_match2), len(con2), len(orig2)],\n",
    " [len(cand_match3), len(con3), len(orig3)],\n",
    " [len(cand_match4), len(con4), len(orig4)]]"
   ]
  },
  {
   "cell_type": "code",
   "execution_count": 37,
   "metadata": {},
   "outputs": [],
   "source": [
    "nc1, no1 = remove_cands(con1, orig1, cand_match1)\n",
    "nc2, no2 = remove_cands(con2, orig2, cand_match2)"
   ]
  },
  {
   "cell_type": "code",
   "execution_count": 38,
   "metadata": {},
   "outputs": [
    {
     "data": {
      "text/plain": [
       "(0, 0)"
      ]
     },
     "execution_count": 38,
     "metadata": {},
     "output_type": "execute_result"
    }
   ],
   "source": [
    "cm1 = get_cand_match(no1, nc1, tol=0.01)\n",
    "cm2 = get_cand_match(no2, nc2, tol=0.01)\n",
    "len(cm1), len(cm2)"
   ]
  },
  {
   "cell_type": "code",
   "execution_count": 39,
   "metadata": {},
   "outputs": [
    {
     "data": {
      "text/plain": [
       "(0, 0)"
      ]
     },
     "execution_count": 39,
     "metadata": {},
     "output_type": "execute_result"
    }
   ],
   "source": [
    "cm1 = get_cand_match(no1, nc1, tol=0.1)\n",
    "cm2 = get_cand_match(no2, nc2, tol=0.1)\n",
    "len(cm1), len(cm2)"
   ]
  },
  {
   "cell_type": "code",
   "execution_count": 40,
   "metadata": {},
   "outputs": [
    {
     "data": {
      "text/plain": [
       "(0, 0)"
      ]
     },
     "execution_count": 40,
     "metadata": {},
     "output_type": "execute_result"
    }
   ],
   "source": [
    "cm1 = get_cand_match(no1, nc1, tol=0.5)\n",
    "cm2 = get_cand_match(no2, nc2, tol=0.5)\n",
    "len(cm1), len(cm2)"
   ]
  },
  {
   "cell_type": "code",
   "execution_count": 148,
   "metadata": {},
   "outputs": [],
   "source": [
    "import pandas as pd"
   ]
  },
  {
   "cell_type": "code",
   "execution_count": 149,
   "metadata": {},
   "outputs": [
    {
     "data": {
      "text/plain": [
       "(23566, 23560, 23560, np.float64(0.0))"
      ]
     },
     "execution_count": 149,
     "metadata": {},
     "output_type": "execute_result"
    }
   ],
   "source": [
    "inj_c = pd.read_csv('xml_files/inj_good_cands_to_fold_with_beam.csv', index_col=0)\n",
    "con_c = pd.read_csv('xml_files/con_good_cands_to_fold_with_beam.csv', index_col=0)\n",
    "orig_c = pd.read_csv('xml_files/6046200_good_cands_to_fold_with_beam.csv', index_col=0)\n",
    "len(inj_c), len(orig_c), len(con_c),  np.sum(con_c['snr']-orig_c['snr'])"
   ]
  },
  {
   "cell_type": "code",
   "execution_count": 150,
   "metadata": {},
   "outputs": [
    {
     "data": {
      "text/plain": [
       "beam_id\n",
       "cfbf00097    563\n",
       "cfbf00104    508\n",
       "cfbf00105    503\n",
       "cfbf00151    134\n",
       "cfbf00079     89\n",
       "cfbf00076     86\n",
       "cfbf00080     81\n",
       "cfbf00078     81\n",
       "cfbf00077     79\n",
       "cfbf00312     71\n",
       "cfbf00229     68\n",
       "cfbf00072     68\n",
       "cfbf00408     68\n",
       "cfbf00075     67\n",
       "cfbf00087     66\n",
       "Name: count, dtype: int64"
      ]
     },
     "execution_count": 150,
     "metadata": {},
     "output_type": "execute_result"
    }
   ],
   "source": [
    "con_c['beam_id'].value_counts().head(15)"
   ]
  },
  {
   "cell_type": "code",
   "execution_count": 151,
   "metadata": {},
   "outputs": [
    {
     "data": {
      "text/plain": [
       "[(2.119481126264242, 89.38349026324208, 13.45509, None),\n",
       " (0.02033142050659543, 334.9673500263703, 29.33122, 11513.124734778808),\n",
       " (0.006310689271586747, 95.64797204949794, 13.86007, 6741.748742748116),\n",
       " (0.029860443236433526, 497.61791041498606, 39.84601, 14755.933509768929),\n",
       " (0.003299254582649314, 44.24589718660036, 10.53711, 5716.9314963774705),\n",
       " (0.005696684430317391, 85.16754458645202, 13.18255, 6532.797589665021),\n",
       " (0.021825437688184793, 360.46867778108526, 30.97979, 12021.551691435498),\n",
       " (0.01423765451349229, 230.95306841995458, 22.60707, 9439.363511259613),\n",
       " (0.0015585260986010706, 14.533462717501033, 8.6163, 5124.546551668371),\n",
       " (0.02690584124480148, 447.185910902646, 36.58576, 13750.456921381103)]"
      ]
     },
     "execution_count": 151,
     "metadata": {},
     "output_type": "execute_result"
    }
   ],
   "source": [
    "inj_p0 = [psr_i['PX'][0] for psr_i in psr]\n",
    "inj_dm = [psr_i['DM'] for psr_i in psr]\n",
    "inj_snr = [round(psr_i['SNR'], 5) for psr_i in psr]\n",
    "inj_bin = [psr_i['binary_period'] for psr_i in psr]\n",
    "list(zip(inj_p0, inj_dm, inj_snr, inj_bin))"
   ]
  },
  {
   "cell_type": "code",
   "execution_count": 153,
   "metadata": {},
   "outputs": [
    {
     "data": {
      "text/html": [
       "<div>\n",
       "<style scoped>\n",
       "    .dataframe tbody tr th:only-of-type {\n",
       "        vertical-align: middle;\n",
       "    }\n",
       "\n",
       "    .dataframe tbody tr th {\n",
       "        vertical-align: top;\n",
       "    }\n",
       "\n",
       "    .dataframe thead th {\n",
       "        text-align: right;\n",
       "    }\n",
       "</style>\n",
       "<table border=\"1\" class=\"dataframe\">\n",
       "  <thead>\n",
       "    <tr style=\"text-align: right;\">\n",
       "      <th></th>\n",
       "      <th>Unnamed: 0</th>\n",
       "      <th>level_0</th>\n",
       "      <th>index</th>\n",
       "      <th>period</th>\n",
       "      <th>opt_period</th>\n",
       "      <th>dm</th>\n",
       "      <th>acc</th>\n",
       "      <th>nh</th>\n",
       "      <th>snr</th>\n",
       "      <th>folded_snr</th>\n",
       "      <th>...</th>\n",
       "      <th>src_rajd</th>\n",
       "      <th>src_dej</th>\n",
       "      <th>src_dejd</th>\n",
       "      <th>file_index</th>\n",
       "      <th>file</th>\n",
       "      <th>cluster_id</th>\n",
       "      <th>strongest_in_cluster</th>\n",
       "      <th>spatial_rfi</th>\n",
       "      <th>low_nassoc</th>\n",
       "      <th>beam_id</th>\n",
       "    </tr>\n",
       "  </thead>\n",
       "  <tbody>\n",
       "    <tr>\n",
       "      <th>0</th>\n",
       "      <td>0</td>\n",
       "      <td>0</td>\n",
       "      <td>5</td>\n",
       "      <td>0.742323</td>\n",
       "      <td>0</td>\n",
       "      <td>166.899994</td>\n",
       "      <td>44.238869</td>\n",
       "      <td>4</td>\n",
       "      <td>48.633198</td>\n",
       "      <td>0</td>\n",
       "      <td>...</td>\n",
       "      <td>184.491250</td>\n",
       "      <td>-702109.7</td>\n",
       "      <td>-70.352694</td>\n",
       "      <td>1917</td>\n",
       "      <td>/tmp/rsenzel/data_000001_inj_000001_overview_d...</td>\n",
       "      <td>0</td>\n",
       "      <td>1</td>\n",
       "      <td>0</td>\n",
       "      <td>0</td>\n",
       "      <td>cfbf00349</td>\n",
       "    </tr>\n",
       "    <tr>\n",
       "      <th>1</th>\n",
       "      <td>2</td>\n",
       "      <td>2</td>\n",
       "      <td>20</td>\n",
       "      <td>0.741983</td>\n",
       "      <td>0</td>\n",
       "      <td>159.649994</td>\n",
       "      <td>-105.000000</td>\n",
       "      <td>1</td>\n",
       "      <td>26.260859</td>\n",
       "      <td>0</td>\n",
       "      <td>...</td>\n",
       "      <td>184.491250</td>\n",
       "      <td>-702109.7</td>\n",
       "      <td>-70.352694</td>\n",
       "      <td>1917</td>\n",
       "      <td>/tmp/rsenzel/data_000001_inj_000001_overview_d...</td>\n",
       "      <td>1</td>\n",
       "      <td>1</td>\n",
       "      <td>0</td>\n",
       "      <td>0</td>\n",
       "      <td>cfbf00349</td>\n",
       "    </tr>\n",
       "    <tr>\n",
       "      <th>2</th>\n",
       "      <td>4</td>\n",
       "      <td>4</td>\n",
       "      <td>24</td>\n",
       "      <td>0.033679</td>\n",
       "      <td>0</td>\n",
       "      <td>120.099998</td>\n",
       "      <td>-20.106552</td>\n",
       "      <td>0</td>\n",
       "      <td>23.754232</td>\n",
       "      <td>0</td>\n",
       "      <td>...</td>\n",
       "      <td>182.386333</td>\n",
       "      <td>-702015.9</td>\n",
       "      <td>-70.337750</td>\n",
       "      <td>421</td>\n",
       "      <td>/hercules/scratch/vishnu/MMGPS_UHF_DATA/MMGPS_...</td>\n",
       "      <td>2</td>\n",
       "      <td>1</td>\n",
       "      <td>0</td>\n",
       "      <td>0</td>\n",
       "      <td>cfbf00105</td>\n",
       "    </tr>\n",
       "    <tr>\n",
       "      <th>3</th>\n",
       "      <td>5</td>\n",
       "      <td>6</td>\n",
       "      <td>26</td>\n",
       "      <td>2.226561</td>\n",
       "      <td>0</td>\n",
       "      <td>167.050003</td>\n",
       "      <td>25.687378</td>\n",
       "      <td>4</td>\n",
       "      <td>22.785351</td>\n",
       "      <td>0</td>\n",
       "      <td>...</td>\n",
       "      <td>184.491250</td>\n",
       "      <td>-702109.7</td>\n",
       "      <td>-70.352694</td>\n",
       "      <td>1917</td>\n",
       "      <td>/tmp/rsenzel/data_000001_inj_000001_overview_d...</td>\n",
       "      <td>3</td>\n",
       "      <td>1</td>\n",
       "      <td>0</td>\n",
       "      <td>0</td>\n",
       "      <td>cfbf00349</td>\n",
       "    </tr>\n",
       "    <tr>\n",
       "      <th>4</th>\n",
       "      <td>7</td>\n",
       "      <td>8</td>\n",
       "      <td>34</td>\n",
       "      <td>0.026985</td>\n",
       "      <td>0</td>\n",
       "      <td>446.299988</td>\n",
       "      <td>105.000000</td>\n",
       "      <td>0</td>\n",
       "      <td>20.511885</td>\n",
       "      <td>0</td>\n",
       "      <td>...</td>\n",
       "      <td>184.491250</td>\n",
       "      <td>-702109.7</td>\n",
       "      <td>-70.352694</td>\n",
       "      <td>1919</td>\n",
       "      <td>/tmp/rsenzel/data_000001_inj_000001_overview_d...</td>\n",
       "      <td>4</td>\n",
       "      <td>1</td>\n",
       "      <td>0</td>\n",
       "      <td>0</td>\n",
       "      <td>cfbf00349</td>\n",
       "    </tr>\n",
       "  </tbody>\n",
       "</table>\n",
       "<p>5 rows × 28 columns</p>\n",
       "</div>"
      ],
      "text/plain": [
       "   Unnamed: 0  level_0  index    period  opt_period          dm         acc  \\\n",
       "0           0        0      5  0.742323           0  166.899994   44.238869   \n",
       "1           2        2     20  0.741983           0  159.649994 -105.000000   \n",
       "2           4        4     24  0.033679           0  120.099998  -20.106552   \n",
       "3           5        6     26  2.226561           0  167.050003   25.687378   \n",
       "4           7        8     34  0.026985           0  446.299988  105.000000   \n",
       "\n",
       "   nh        snr  folded_snr  ...    src_rajd   src_dej   src_dejd  \\\n",
       "0   4  48.633198           0  ...  184.491250 -702109.7 -70.352694   \n",
       "1   1  26.260859           0  ...  184.491250 -702109.7 -70.352694   \n",
       "2   0  23.754232           0  ...  182.386333 -702015.9 -70.337750   \n",
       "3   4  22.785351           0  ...  184.491250 -702109.7 -70.352694   \n",
       "4   0  20.511885           0  ...  184.491250 -702109.7 -70.352694   \n",
       "\n",
       "   file_index                                               file  cluster_id  \\\n",
       "0        1917  /tmp/rsenzel/data_000001_inj_000001_overview_d...           0   \n",
       "1        1917  /tmp/rsenzel/data_000001_inj_000001_overview_d...           1   \n",
       "2         421  /hercules/scratch/vishnu/MMGPS_UHF_DATA/MMGPS_...           2   \n",
       "3        1917  /tmp/rsenzel/data_000001_inj_000001_overview_d...           3   \n",
       "4        1919  /tmp/rsenzel/data_000001_inj_000001_overview_d...           4   \n",
       "\n",
       "   strongest_in_cluster  spatial_rfi  low_nassoc    beam_id  \n",
       "0                     1            0           0  cfbf00349  \n",
       "1                     1            0           0  cfbf00349  \n",
       "2                     1            0           0  cfbf00105  \n",
       "3                     1            0           0  cfbf00349  \n",
       "4                     1            0           0  cfbf00349  \n",
       "\n",
       "[5 rows x 28 columns]"
      ]
     },
     "execution_count": 153,
     "metadata": {},
     "output_type": "execute_result"
    }
   ],
   "source": [
    "inj_c.head()"
   ]
  },
  {
   "cell_type": "code",
   "execution_count": null,
   "metadata": {},
   "outputs": [],
   "source": []
  },
  {
   "cell_type": "code",
   "execution_count": 211,
   "metadata": {},
   "outputs": [],
   "source": [
    "pulsar_cands = [[] for _ in range(len(psr))]\n",
    "ptol, dmtol = 0.01, 0.01\n",
    "for i, psr_i in enumerate(psr):\n",
    "    p0_i = psr_i['PX'][0]\n",
    "    dm_i = psr_i['DM']\n",
    "    p_cond = (inj_c['period'] > p0_i*(1-ptol)) & (inj_c['period'] < p0_i*(1+ptol))\n",
    "    dm_cond = (inj_c['dm'] > dm_i*(1-dmtol)) & (inj_c['dm'] < dm_i*(1+dmtol))\n",
    "    psr_cands = inj_c[p_cond & dm_cond]\n",
    "    pulsar_cands[i].extend(psr_cands.index.values)"
   ]
  },
  {
   "cell_type": "code",
   "execution_count": 212,
   "metadata": {},
   "outputs": [
    {
     "data": {
      "text/plain": [
       "([0, 2, 4, 1, 1, 2, 1, 2, 4, 1], np.int64(18))"
      ]
     },
     "execution_count": 212,
     "metadata": {},
     "output_type": "execute_result"
    }
   ],
   "source": [
    "cand_len = [len(psr_c) for psr_c in pulsar_cands]\n",
    "cand_len, np.sum(cand_len)"
   ]
  },
  {
   "cell_type": "code",
   "execution_count": 202,
   "metadata": {},
   "outputs": [
    {
     "data": {
      "text/plain": [
       "([0, 2, 15, 2, 16, 14, 2, 2, 12, 1], np.int64(66))"
      ]
     },
     "execution_count": 202,
     "metadata": {},
     "output_type": "execute_result"
    }
   ],
   "source": [
    "cand_len = [len(psr_c) for psr_c in pulsar_cands]\n",
    "cand_len, np.sum(cand_len)"
   ]
  },
  {
   "cell_type": "code",
   "execution_count": 197,
   "metadata": {},
   "outputs": [
    {
     "data": {
      "text/plain": [
       "([0, 3, 31, 3, 44, 36, 4, 6, 24, 2], np.int64(153))"
      ]
     },
     "execution_count": 197,
     "metadata": {},
     "output_type": "execute_result"
    }
   ],
   "source": [
    "cand_len = [len(psr_c) for psr_c in pulsar_cands]\n",
    "cand_len, np.sum(cand_len)"
   ]
  },
  {
   "cell_type": "code",
   "execution_count": 196,
   "metadata": {},
   "outputs": [
    {
     "data": {
      "text/plain": [
       "(0.0, 0.1)"
      ]
     },
     "execution_count": 196,
     "metadata": {},
     "output_type": "execute_result"
    },
    {
     "data": {
      "image/png": "[encoded data removed]",
      "text/plain": [
       "<Figure size 640x480 with 1 Axes>"
      ]
     },
     "metadata": {},
     "output_type": "display_data"
    }
   ],
   "source": [
    "plt.plot(inj_p0, cand_len, 'b.')\n",
    "plt.xlim([0, 0.1])"
   ]
  },
  {
   "cell_type": "code",
   "execution_count": 189,
   "metadata": {},
   "outputs": [
    {
     "data": {
      "text/plain": [
       "[0, 3, 31, 3, 44, 36, 4, 6, 24, 2]"
      ]
     },
     "execution_count": 189,
     "metadata": {},
     "output_type": "execute_result"
    }
   ],
   "source": []
  },
  {
   "cell_type": "code",
   "execution_count": 186,
   "metadata": {},
   "outputs": [
    {
     "data": {
      "text/plain": [
       "[[np.int64(4), np.int64(7176)], [], [], [], [], [], [], [], [], []]"
      ]
     },
     "execution_count": 186,
     "metadata": {},
     "output_type": "execute_result"
    }
   ],
   "source": [
    "pulsar_cands"
   ]
  },
  {
   "cell_type": "code",
   "execution_count": 170,
   "metadata": {},
   "outputs": [
    {
     "data": {
      "text/plain": [
       "array([   4, 7176])"
      ]
     },
     "execution_count": 170,
     "metadata": {},
     "output_type": "execute_result"
    }
   ],
   "source": []
  },
  {
   "cell_type": "code",
   "execution_count": null,
   "metadata": {},
   "outputs": [],
   "source": []
  }
 ],
 "metadata": {
  "kernelspec": {
   "display_name": ".venv",
   "language": "python",
   "name": "python3"
  },
  "language_info": {
   "codemirror_mode": {
    "name": "ipython",
    "version": 3
   },
   "file_extension": ".py",
   "mimetype": "text/x-python",
   "name": "python",
   "nbconvert_exporter": "python",
   "pygments_lexer": "ipython3",
   "version": "3.12.3"
  }
 },
 "nbformat": 4,
 "nbformat_minor": 2
}
